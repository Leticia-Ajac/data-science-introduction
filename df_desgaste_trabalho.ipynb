{
  "nbformat": 4,
  "nbformat_minor": 0,
  "metadata": {
    "colab": {
      "provenance": []
    },
    "kernelspec": {
      "name": "python3",
      "display_name": "Python 3"
    },
    "language_info": {
      "name": "python"
    }
  },
  "cells": [
    {
      "cell_type": "code",
      "execution_count": null,
      "metadata": {
        "id": "bCDDe-zCEg56"
      },
      "outputs": [],
      "source": [
        "import matplotlib.pyplot as plt\n",
        "import seaborn as sns\n",
        "import pandas as pd\n",
        "from sklearn.preprocessing import LabelEncoder\n",
        "\n",
        "from sklearn.metrics import accuracy_score, confusion_matrix\n",
        "\n",
        "cb = pd.read_excel('df_desgaste_trabalho.xlsx')"
      ]
    },
    {
      "cell_type": "code",
      "source": [
        "print(cb.dtypes)"
      ],
      "metadata": {
        "colab": {
          "base_uri": "https://localhost:8080/"
        },
        "id": "U6Gs-dbwKB-5",
        "outputId": "beaa1b03-a9a8-4881-da00-e4647681976f"
      },
      "execution_count": null,
      "outputs": [
        {
          "output_type": "stream",
          "name": "stdout",
          "text": [
            "Idade                            int64\n",
            "Viagem_trabalho                 object\n",
            "Diária                           int64\n",
            "Departamento                    object\n",
            "Distancia_Casa                   int64\n",
            "Educação                         int64\n",
            "Campo_Educacao                  object\n",
            "Numero_Empregados                int64\n",
            "Satisfacao_Ambiente              int64\n",
            "Genero                          object\n",
            "Valor_Hora                       int64\n",
            "Envolvimento_Trabalho            int64\n",
            "Nivel_trabalho                   int64\n",
            "Cargo                           object\n",
            "Satisfacao_Trabalho              int64\n",
            "Estado_Civil                    object\n",
            "Numero_Empresas_Trabalhadas      int64\n",
            "Hora_Extra                      object\n",
            "Avaliacao_Performance            int64\n",
            "Satisfacao_Relacionamento        int64\n",
            "Nivel_Acoes                      int64\n",
            "Anos_Trabalho                    int64\n",
            "Tempo_Treino_Ano_Passado         int64\n",
            "Equilibrio_Vida_Profissional     int64\n",
            "Anos_Empresa                     int64\n",
            "Anos_Mesma_Funcao                int64\n",
            "Anos_Desde_Ultima_Promocao       int64\n",
            "Anos_com_Atual_Chefe             int64\n",
            "Desgaste                        object\n",
            "dtype: object\n"
          ]
        }
      ]
    },
    {
      "cell_type": "code",
      "source": [],
      "metadata": {
        "id": "J0vIavtJLVsX"
      },
      "execution_count": null,
      "outputs": []
    },
    {
      "cell_type": "code",
      "source": [
        "new_cb = cb.drop(columns=['Viagem_trabalho','Diária','Nivel_trabalho','Numero_Empresas_Trabalhadas','Avaliacao_Performance','Nivel_Acoes','Tempo_Treino_Ano_Passado','Anos_Empresa'])\n",
        "print(new_cb.dtypes)"
      ],
      "metadata": {
        "id": "lGqlkF_xLYVv",
        "colab": {
          "base_uri": "https://localhost:8080/"
        },
        "outputId": "151245aa-d82d-430e-8df9-e8a503fbf660"
      },
      "execution_count": null,
      "outputs": [
        {
          "output_type": "stream",
          "name": "stdout",
          "text": [
            "Idade                            int64\n",
            "Departamento                    object\n",
            "Distancia_Casa                   int64\n",
            "Educação                         int64\n",
            "Campo_Educacao                  object\n",
            "Numero_Empregados                int64\n",
            "Satisfacao_Ambiente              int64\n",
            "Genero                          object\n",
            "Valor_Hora                       int64\n",
            "Envolvimento_Trabalho            int64\n",
            "Cargo                           object\n",
            "Satisfacao_Trabalho              int64\n",
            "Estado_Civil                    object\n",
            "Hora_Extra                      object\n",
            "Satisfacao_Relacionamento        int64\n",
            "Anos_Trabalho                    int64\n",
            "Equilibrio_Vida_Profissional     int64\n",
            "Anos_Mesma_Funcao                int64\n",
            "Anos_Desde_Ultima_Promocao       int64\n",
            "Anos_com_Atual_Chefe             int64\n",
            "Desgaste                        object\n",
            "dtype: object\n"
          ]
        }
      ]
    },
    {
      "cell_type": "code",
      "source": [
        "atributos = new_cb.iloc[:,0:20].values\n",
        "print(atributos)\n",
        "\n",
        "resposta = new_cb['Desgaste'].values\n",
        "display(resposta)"
      ],
      "metadata": {
        "id": "s_zS9s2HLEAc",
        "colab": {
          "base_uri": "https://localhost:8080/",
          "height": 168
        },
        "outputId": "a1baf563-a512-42ed-eb4c-81080e8cbded"
      },
      "execution_count": null,
      "outputs": [
        {
          "output_type": "stream",
          "name": "stdout",
          "text": [
            "[[41 'Vendas' 1 ... 4 0 5]\n",
            " [49 'Pesquisa e Desenvolvimento' 8 ... 7 1 7]\n",
            " [37 'Pesquisa e Desenvolvimento' 2 ... 0 0 0]\n",
            " ...\n",
            " [27 'Pesquisa e Desenvolvimento' 4 ... 2 0 3]\n",
            " [49 'Vendas' 2 ... 6 0 8]\n",
            " [34 'Pesquisa e Desenvolvimento' 8 ... 3 1 2]]\n"
          ]
        },
        {
          "output_type": "display_data",
          "data": {
            "text/plain": [
              "array(['Sim', 'Não', 'Sim', ..., 'Não', 'Não', 'Não'], dtype=object)"
            ]
          },
          "metadata": {}
        }
      ]
    },
    {
      "cell_type": "code",
      "source": [
        "print(new_cb.dtypes)"
      ],
      "metadata": {
        "colab": {
          "base_uri": "https://localhost:8080/"
        },
        "id": "9asMNBvONZv3",
        "outputId": "25d1cbb6-9e1b-478b-b041-58eaa6a16459"
      },
      "execution_count": null,
      "outputs": [
        {
          "output_type": "stream",
          "name": "stdout",
          "text": [
            "Idade                            int64\n",
            "Departamento                    object\n",
            "Distancia_Casa                   int64\n",
            "Educação                         int64\n",
            "Campo_Educacao                  object\n",
            "Numero_Empregados                int64\n",
            "Satisfacao_Ambiente              int64\n",
            "Genero                          object\n",
            "Valor_Hora                       int64\n",
            "Envolvimento_Trabalho            int64\n",
            "Cargo                           object\n",
            "Satisfacao_Trabalho              int64\n",
            "Estado_Civil                    object\n",
            "Hora_Extra                      object\n",
            "Satisfacao_Relacionamento        int64\n",
            "Anos_Trabalho                    int64\n",
            "Equilibrio_Vida_Profissional     int64\n",
            "Anos_Mesma_Funcao                int64\n",
            "Anos_Desde_Ultima_Promocao       int64\n",
            "Anos_com_Atual_Chefe             int64\n",
            "Desgaste                        object\n",
            "dtype: object\n"
          ]
        }
      ]
    },
    {
      "cell_type": "code",
      "source": [
        "label_encoder = LabelEncoder()\n",
        "\n",
        "atributos[:,1] = label_encoder.fit_transform(atributos[:,1])\n",
        "atributos[:,4] = label_encoder.fit_transform(atributos[:,4])\n",
        "atributos[:,7] = label_encoder.fit_transform(atributos[:,7])\n",
        "atributos[:,10] = label_encoder.fit_transform(atributos[:,10])\n",
        "atributos[:,12] = label_encoder.fit_transform(atributos[:,12])\n",
        "atributos[:,13] = label_encoder.fit_transform(atributos[:,13])\n"
      ],
      "metadata": {
        "id": "28dInTaxNYeX"
      },
      "execution_count": null,
      "outputs": []
    },
    {
      "cell_type": "code",
      "source": [
        "label_encoder2 = LabelEncoder()\n",
        "\n",
        "resposta = label_encoder2.fit_transform(resposta)\n",
        "print(resposta)\n",
        "print(label_encoder2.classes_)"
      ],
      "metadata": {
        "colab": {
          "base_uri": "https://localhost:8080/"
        },
        "id": "xAjEnxqHNxrx",
        "outputId": "f27f6342-eb4f-4a32-8dd7-5267754fac6d"
      },
      "execution_count": null,
      "outputs": [
        {
          "output_type": "stream",
          "name": "stdout",
          "text": [
            "[1 0 1 ... 0 0 0]\n",
            "['Não' 'Sim']\n"
          ]
        }
      ]
    },
    {
      "cell_type": "code",
      "source": [
        "from sklearn.model_selection import train_test_split\n",
        "\n",
        "atributos_treino, atributos_teste, resposta_treino, resposta_teste = train_test_split(atributos,resposta,test_size=0.25, random_state=20)\n",
        "\n",
        "print(atributos_treino)"
      ],
      "metadata": {
        "colab": {
          "base_uri": "https://localhost:8080/"
        },
        "id": "aG6e4lkQN1LT",
        "outputId": "2e88ba67-bde3-4d03-bb15-9242eceb6a6c"
      },
      "execution_count": null,
      "outputs": [
        {
          "output_type": "stream",
          "name": "stdout",
          "text": [
            "[[46 0 1 ... 9 9 5]\n",
            " [35 0 11 ... 0 2 3]\n",
            " [29 0 10 ... 0 0 0]\n",
            " ...\n",
            " [47 0 29 ... 7 9 9]\n",
            " [24 0 23 ... 5 1 4]\n",
            " [27 1 22 ... 0 0 0]]\n"
          ]
        }
      ]
    },
    {
      "cell_type": "code",
      "source": [
        "classificador_bayes.fit(atributos_treino, resposta_treino)"
      ],
      "metadata": {
        "colab": {
          "base_uri": "https://localhost:8080/",
          "height": 76
        },
        "id": "FyF2IPwnN8Lz",
        "outputId": "27b8ad5f-84d6-401e-cc37-fe04cc729171"
      },
      "execution_count": null,
      "outputs": [
        {
          "output_type": "execute_result",
          "data": {
            "text/plain": [
              "GaussianNB()"
            ],
            "text/html": [
              "<style>#sk-container-id-1 {color: black;background-color: white;}#sk-container-id-1 pre{padding: 0;}#sk-container-id-1 div.sk-toggleable {background-color: white;}#sk-container-id-1 label.sk-toggleable__label {cursor: pointer;display: block;width: 100%;margin-bottom: 0;padding: 0.3em;box-sizing: border-box;text-align: center;}#sk-container-id-1 label.sk-toggleable__label-arrow:before {content: \"▸\";float: left;margin-right: 0.25em;color: #696969;}#sk-container-id-1 label.sk-toggleable__label-arrow:hover:before {color: black;}#sk-container-id-1 div.sk-estimator:hover label.sk-toggleable__label-arrow:before {color: black;}#sk-container-id-1 div.sk-toggleable__content {max-height: 0;max-width: 0;overflow: hidden;text-align: left;background-color: #f0f8ff;}#sk-container-id-1 div.sk-toggleable__content pre {margin: 0.2em;color: black;border-radius: 0.25em;background-color: #f0f8ff;}#sk-container-id-1 input.sk-toggleable__control:checked~div.sk-toggleable__content {max-height: 200px;max-width: 100%;overflow: auto;}#sk-container-id-1 input.sk-toggleable__control:checked~label.sk-toggleable__label-arrow:before {content: \"▾\";}#sk-container-id-1 div.sk-estimator input.sk-toggleable__control:checked~label.sk-toggleable__label {background-color: #d4ebff;}#sk-container-id-1 div.sk-label input.sk-toggleable__control:checked~label.sk-toggleable__label {background-color: #d4ebff;}#sk-container-id-1 input.sk-hidden--visually {border: 0;clip: rect(1px 1px 1px 1px);clip: rect(1px, 1px, 1px, 1px);height: 1px;margin: -1px;overflow: hidden;padding: 0;position: absolute;width: 1px;}#sk-container-id-1 div.sk-estimator {font-family: monospace;background-color: #f0f8ff;border: 1px dotted black;border-radius: 0.25em;box-sizing: border-box;margin-bottom: 0.5em;}#sk-container-id-1 div.sk-estimator:hover {background-color: #d4ebff;}#sk-container-id-1 div.sk-parallel-item::after {content: \"\";width: 100%;border-bottom: 1px solid gray;flex-grow: 1;}#sk-container-id-1 div.sk-label:hover label.sk-toggleable__label {background-color: #d4ebff;}#sk-container-id-1 div.sk-serial::before {content: \"\";position: absolute;border-left: 1px solid gray;box-sizing: border-box;top: 0;bottom: 0;left: 50%;z-index: 0;}#sk-container-id-1 div.sk-serial {display: flex;flex-direction: column;align-items: center;background-color: white;padding-right: 0.2em;padding-left: 0.2em;position: relative;}#sk-container-id-1 div.sk-item {position: relative;z-index: 1;}#sk-container-id-1 div.sk-parallel {display: flex;align-items: stretch;justify-content: center;background-color: white;position: relative;}#sk-container-id-1 div.sk-item::before, #sk-container-id-1 div.sk-parallel-item::before {content: \"\";position: absolute;border-left: 1px solid gray;box-sizing: border-box;top: 0;bottom: 0;left: 50%;z-index: -1;}#sk-container-id-1 div.sk-parallel-item {display: flex;flex-direction: column;z-index: 1;position: relative;background-color: white;}#sk-container-id-1 div.sk-parallel-item:first-child::after {align-self: flex-end;width: 50%;}#sk-container-id-1 div.sk-parallel-item:last-child::after {align-self: flex-start;width: 50%;}#sk-container-id-1 div.sk-parallel-item:only-child::after {width: 0;}#sk-container-id-1 div.sk-dashed-wrapped {border: 1px dashed gray;margin: 0 0.4em 0.5em 0.4em;box-sizing: border-box;padding-bottom: 0.4em;background-color: white;}#sk-container-id-1 div.sk-label label {font-family: monospace;font-weight: bold;display: inline-block;line-height: 1.2em;}#sk-container-id-1 div.sk-label-container {text-align: center;}#sk-container-id-1 div.sk-container {/* jupyter's `normalize.less` sets `[hidden] { display: none; }` but bootstrap.min.css set `[hidden] { display: none !important; }` so we also need the `!important` here to be able to override the default hidden behavior on the sphinx rendered scikit-learn.org. See: https://github.com/scikit-learn/scikit-learn/issues/21755 */display: inline-block !important;position: relative;}#sk-container-id-1 div.sk-text-repr-fallback {display: none;}</style><div id=\"sk-container-id-1\" class=\"sk-top-container\"><div class=\"sk-text-repr-fallback\"><pre>GaussianNB()</pre><b>In a Jupyter environment, please rerun this cell to show the HTML representation or trust the notebook. <br />On GitHub, the HTML representation is unable to render, please try loading this page with nbviewer.org.</b></div><div class=\"sk-container\" hidden><div class=\"sk-item\"><div class=\"sk-estimator sk-toggleable\"><input class=\"sk-toggleable__control sk-hidden--visually\" id=\"sk-estimator-id-1\" type=\"checkbox\" checked><label for=\"sk-estimator-id-1\" class=\"sk-toggleable__label sk-toggleable__label-arrow\">GaussianNB</label><div class=\"sk-toggleable__content\"><pre>GaussianNB()</pre></div></div></div></div></div>"
            ]
          },
          "metadata": {},
          "execution_count": 16
        }
      ]
    },
    {
      "cell_type": "code",
      "source": [
        "from sklearn.naive_bayes import GaussianNB\n",
        "\n",
        "classificador_bayes = GaussianNB()"
      ],
      "metadata": {
        "id": "l-DXYFBXN3xq"
      },
      "execution_count": null,
      "outputs": []
    },
    {
      "cell_type": "code",
      "source": [
        "classificacao = classificador_bayes.predict(atributos_teste)\n",
        "\n",
        "print(classificacao)\n",
        "print(resposta_teste)"
      ],
      "metadata": {
        "colab": {
          "base_uri": "https://localhost:8080/"
        },
        "id": "YkAyQKWVO_u7",
        "outputId": "3a4ffb3f-e65d-456e-9405-22067942f543"
      },
      "execution_count": null,
      "outputs": [
        {
          "output_type": "stream",
          "name": "stdout",
          "text": [
            "[1 0 0 0 0 0 0 0 0 1 0 0 0 0 1 0 0 0 0 0 0 0 0 0 0 0 1 1 1 0 0 0 0 1 0 0 0\n",
            " 0 0 0 0 0 0 0 1 0 1 0 0 0 0 0 0 0 1 1 0 0 0 1 0 0 0 1 0 0 1 1 0 0 0 1 0 1\n",
            " 0 0 0 0 0 0 0 0 1 0 0 0 1 0 1 0 1 0 0 0 0 0 0 0 0 0 0 0 0 0 0 0 0 1 0 0 0\n",
            " 1 0 0 0 0 0 0 0 0 0 0 0 0 0 0 0 0 0 1 0 0 0 0 0 0 1 0 0 0 0 0 0 0 0 0 0 0\n",
            " 0 0 0 0 0 0 1 0 0 0 1 0 0 0 0 0 0 0 1 1 0 0 0 0 0 0 0 0 1 0 0 0 0 0 1 0 0\n",
            " 0 0 0 0 0 0 1 0 0 0 0 0 1 1 0 1 0 0 0 0 0 0 0 0 0 0 0 0 0 0 1 0 0 0 0 0 0\n",
            " 0 0 0 0 1 0 1 0 0 0 0 0 0 1 0 0 0 0 0 0 1 0 0 0 0 1 1 0 0 0 0 1 0 0 0 0 0\n",
            " 1 0 1 0 1 0 0 0 0 0 0 0 0 0 0 0 0 1 0 0 1 0 0 0 1 0 0 0 0 0 0 0 0 0 0 0 1\n",
            " 0 0 1 0 0 0 0 0 0 0 0 0 0 0 0 0 0 0 0 0 0 0 0 0 0 0 0 0 0 0 0 0 0 0 1 0 0\n",
            " 0 0 0 0 0 1 1 0 0 0 0 1 0 0 1 0 0 0 0 0 0 0 0 0 0 0 0 1 0 0 0 0 0 0 0]\n",
            "[0 0 0 0 0 0 0 0 0 1 1 0 0 0 1 0 0 0 0 0 0 0 0 0 0 0 0 1 0 0 0 0 0 1 0 0 0\n",
            " 0 0 0 0 0 0 0 0 0 0 0 0 0 0 0 0 0 1 1 0 0 0 0 0 0 0 1 0 0 1 1 0 0 0 1 0 1\n",
            " 0 0 0 0 0 0 0 0 1 0 0 0 1 0 0 0 1 0 0 0 0 0 0 0 0 0 0 0 0 0 0 0 1 1 0 0 0\n",
            " 0 0 0 0 0 0 0 1 0 0 0 0 0 0 0 0 1 0 0 0 0 0 0 0 0 1 0 0 0 0 0 0 0 0 0 0 0\n",
            " 0 0 0 0 1 0 1 0 0 0 1 0 0 0 1 0 0 0 0 0 0 0 1 0 0 0 0 0 1 1 0 0 0 1 1 0 0\n",
            " 0 1 0 0 0 0 1 0 0 0 0 0 0 1 0 0 0 1 0 0 0 0 0 0 0 0 0 0 0 1 1 0 0 0 0 0 0\n",
            " 0 1 0 0 1 0 1 0 0 0 0 0 0 0 0 0 0 0 1 0 0 0 0 0 1 1 0 0 0 0 0 1 0 0 1 0 0\n",
            " 1 0 1 0 0 0 0 0 0 1 0 0 0 0 0 0 0 0 0 1 1 1 0 0 1 0 1 0 0 0 0 0 0 0 0 0 1\n",
            " 0 0 1 0 0 0 0 0 1 0 0 0 0 0 0 0 0 0 0 0 0 0 0 0 0 0 0 0 0 0 1 0 0 0 0 0 1\n",
            " 0 0 1 0 0 1 1 1 0 0 0 0 0 0 0 0 0 0 0 0 0 1 0 0 0 0 0 0 0 0 0 0 0 0 0]\n"
          ]
        }
      ]
    },
    {
      "cell_type": "code",
      "source": [
        "taxa_acerto = accuracy_score(resposta_teste, classificacao)\n",
        "print(taxa_acerto)"
      ],
      "metadata": {
        "colab": {
          "base_uri": "https://localhost:8080/"
        },
        "id": "P9aIi8RRPF76",
        "outputId": "a4785dca-4bb5-4edf-ee81-0b8cd8362570"
      },
      "execution_count": null,
      "outputs": [
        {
          "output_type": "stream",
          "name": "stdout",
          "text": [
            "0.8695652173913043\n"
          ]
        }
      ]
    }
  ]
}